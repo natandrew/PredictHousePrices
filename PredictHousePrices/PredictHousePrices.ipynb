{
 "cells": [
  {
   "cell_type": "code",
   "execution_count": 1,
   "id": "1e9b745e-d7d6-41e2-af86-0c53fabb386c",
   "metadata": {},
   "outputs": [],
   "source": [
    "import pandas as pd\n",
    "import numpy as np\n",
    "from sklearn.preprocessing import StandardScaler\n",
    "from sklearn.datasets import fetch_openml\n",
    "from sklearn.impute import SimpleImputer\n",
    "from sklearn.model_selection import train_test_split, GridSearchCV\n",
    "from sklearn.pipeline import Pipeline\n",
    "from sklearn.linear_model import LinearRegression, Ridge\n",
    "from sklearn.metrics import mean_squared_error, r2_score, mean_absolute_error"
   ]
  },
  {
   "cell_type": "code",
   "execution_count": 2,
   "id": "bb9ee3ba-d110-43d9-8873-b4e6271495ef",
   "metadata": {},
   "outputs": [
    {
     "name": "stdout",
     "output_type": "stream",
     "text": [
      "Test RMSE: 4.929\n",
      "Test R^2 : 0.669\n",
      "Test MAE : 3.189\n"
     ]
    }
   ],
   "source": [
    "boston = fetch_openml(name=\"boston\", version=1, as_frame=True)\n",
    "X = boston.data\n",
    "y = boston.target\n",
    "\n",
    "mask = ~y.isna()\n",
    "X = X.loc[mask]\n",
    "y = y.loc[mask]\n",
    "\n",
    "X_train, X_test, y_train, y_test = train_test_split(\n",
    "    X, y, test_size=0.2, random_state=42\n",
    ")\n",
    "\n",
    "##linear Regression\n",
    "pipe = Pipeline([\n",
    "    (\"imputer\", SimpleImputer(strategy=\"median\")),\n",
    "    (\"scaler\", StandardScaler()),\n",
    "    (\"lr\", LinearRegression())\n",
    "])\n",
    "\n",
    "pipe.fit(X_train, y_train)\n",
    "\n",
    "y_pred = pipe.predict(X_test)\n",
    "\n",
    "rmse = np.sqrt(mean_squared_error(y_test, y_pred))\n",
    "r2   = r2_score(y_test, y_pred)\n",
    "mae = mean_absolute_error(y_test, y_pred)\n",
    "\n",
    "print(f\"Test RMSE: {rmse:.3f}\")\n",
    "print(f\"Test R^2 : {r2:.3f}\")\n",
    "print(f\"Test MAE : {mae:.3f}\")"
   ]
  },
  {
   "cell_type": "code",
   "execution_count": 3,
   "id": "aaa81694-7046-448b-a86c-c2808c591be3",
   "metadata": {},
   "outputs": [
    {
     "name": "stdout",
     "output_type": "stream",
     "text": [
      "Best alpha: {'model__alpha': np.float64(2.154434690031882)}\n",
      "Test RMSE: 4.862826490414947\n",
      "RMSE: 4.9333552916037435\n",
      "R^2: 0.6681202934807451\n",
      "MAE: 3.182668828293336\n"
     ]
    }
   ],
   "source": [
    "##Ridge\n",
    "pipe_ridge = Pipeline([\n",
    "    (\"imputer\", SimpleImputer(strategy=\"median\")),\n",
    "    (\"scaler\", StandardScaler()),\n",
    "    (\"model\", Ridge())\n",
    "])\n",
    "\n",
    "param_grid = {\"model__alpha\": np.logspace(-4, 4, 25)}\n",
    "gs = GridSearchCV(pipe_ridge, param_grid, cv=5, scoring=\"neg_mean_squared_error\", n_jobs=-1)\n",
    "\n",
    "gs.fit(X_train, y_train)\n",
    "print(\"Best alpha:\", gs.best_params_)\n",
    "\n",
    "best_pipe = gs.best_estimator_\n",
    "\n",
    "print(\"Test RMSE:\", np.sqrt(-gs.best_score_))   # CV score (approx)\n",
    "\n",
    "y_pred = best_pipe.predict(X_test)\n",
    "\n",
    "print(\"RMSE:\", np.sqrt(mean_squared_error(y_test, y_pred)))\n",
    "print(\"R^2:\", r2_score(y_test, y_pred))\n",
    "print(\"MAE:\", mean_absolute_error(y_test, y_pred))"
   ]
  }
 ],
 "metadata": {
  "kernelspec": {
   "display_name": "Python 3 (ipykernel)",
   "language": "python",
   "name": "python3"
  },
  "language_info": {
   "codemirror_mode": {
    "name": "ipython",
    "version": 3
   },
   "file_extension": ".py",
   "mimetype": "text/x-python",
   "name": "python",
   "nbconvert_exporter": "python",
   "pygments_lexer": "ipython3",
   "version": "3.12.11"
  }
 },
 "nbformat": 4,
 "nbformat_minor": 5
}
